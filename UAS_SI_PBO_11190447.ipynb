{
 "cells": [
  {
   "cell_type": "code",
   "execution_count": null,
   "metadata": {
    "id": "PyOPiCv8CwFD"
   },
   "outputs": [],
   "source": []
  },
  {
   "cell_type": "markdown",
   "metadata": {
    "id": "wmLXDio5Dedv"
   },
   "source": [
    "**NIM :** 11190447\n",
    "\n",
    "**Nama :** Ahya Muhammad Ahmas"
   ]
  },
  {
   "cell_type": "markdown",
   "metadata": {
    "id": "4P01AZZYDrDC"
   },
   "source": [
    "\n",
    "1. Ubah nama file notebook ini dengan format **UAS_SI_NIM.ipynb**\n",
    "Contoh : UAS_SI_11190981.ipynb\n",
    "\n",
    "2. Desain Class untuk bangun ruang pada kasus UTS anda. \n",
    "3. Implementasikan Enskapsulasi untuk Class Bangun Datar yang anda rancang.  \n",
    "4. Implentasikan hasil desain class anda dengan membuat 4 (empat) buah objek objek yang berbeda dari dari kelas yang anda. \n",
    "5. Berikan contoh implementasi konsep pewarisan dari class yang anda buat.\n",
    "6. Berikan contoh implementasi konsep polymorphism dari class yang anda buat.\n",
    "7. Berikan penjelasan dari kode yang anda buat untuk point 2 - 6 diatas \n"
   ]
  },
  {
   "cell_type": "code",
   "execution_count": null,
   "metadata": {
    "colab": {
     "base_uri": "https://localhost:8080/"
    },
    "executionInfo": {
     "elapsed": 1154,
     "status": "ok",
     "timestamp": 1610871666834,
     "user": {
      "displayName": "Sidiq Nur Soleh",
      "photoUrl": "",
      "userId": "04349474375275842896"
     },
     "user_tz": -420
    },
    "id": "xC7nBm7tFn_6",
    "outputId": "b8cc438a-8287-46e9-e796-c2464dc5c168"
   },
   "outputs": [
    {
     "name": "stdout",
     "output_type": "stream",
     "text": [
      "Masukkan Nomor dibawah untuk menggunakan aplikasi\n",
      "1. Volume Limas\n",
      "2. Luas Limas\n",
      "Masukka No: 1\n",
      "Masukkan Luas Alas: 8\n",
      "Masukkan Tinggi Limas: 10\n",
      "Masukkan Sisi Limas: 5\n",
      "Volume Limas adalah 133\n",
      "Masukkan Nomor dibawah untuk menggunakan aplikasi\n",
      "1. Volume Limas\n",
      "2. Luas Limas\n"
     ]
    }
   ],
   "source": [
    "#jawab\n",
    "\n",
    "def volume():\n",
    "    luas_alas = float(input(\"Masukkan Luas Alas: \"))\n",
    "    tinggi = float(input(\"Masukkan Tinggi Limas: \"))\n",
    "    sisi = float(input(\"Masukkan Sisi Limas: \"))\n",
    "\n",
    "    volume = 1/3 * luas_alas * tinggi * sisi\n",
    "\n",
    "    print (\"Volume Limas adalah %d\" %volume)\n",
    "\n",
    "def luas():\n",
    "    luas_alas = float(input(\"Masukkan Luas Alas: \"))\n",
    "    jumlah_sisi_tegak = float(input(\"Masukkan Jumlah Sisi Tegak: \"))\n",
    "\n",
    "    luas = luas_alas + jumlah_sisi_tegak\n",
    "\n",
    "    print(\"Luas Limas adalah %d\" %luas)\n",
    "    \n",
    "#inheritance\n",
    "def menu():\n",
    "    print(\"Masukkan Nomor dibawah untuk menggunakan aplikasi\")\n",
    "    print(\"1. Volume Limas\")\n",
    "    print(\"2. Luas Limas\")\n",
    "    masukan = int(input(\"Masukka No: \"))\n",
    "    return masukan\n",
    "\n",
    "#polymorphism\n",
    "loop = 1\n",
    "masuk = 0\n",
    "while loop >= 1:\n",
    "    masuk = menu()\n",
    "    if masuk == 1:\n",
    "        volume()\n",
    "    elif masuk == 2:\n",
    "        loop = 0\n",
    "print('Semoga Menyenangkan')\n"
   ]
  },
  {
   "cell_type": "code",
   "execution_count": null,
   "metadata": {},
   "outputs": [],
   "source": []
  }
 ],
 "metadata": {
  "colab": {
   "collapsed_sections": [],
   "name": "UAS_TIA_NIM_12191664.ipynb",
   "provenance": []
  },
  "kernelspec": {
   "display_name": "Python 3",
   "language": "python",
   "name": "python3"
  },
  "language_info": {
   "codemirror_mode": {
    "name": "ipython",
    "version": 3
   },
   "file_extension": ".py",
   "mimetype": "text/x-python",
   "name": "python",
   "nbconvert_exporter": "python",
   "pygments_lexer": "ipython3",
   "version": "3.8.3"
  }
 },
 "nbformat": 4,
 "nbformat_minor": 1
}
